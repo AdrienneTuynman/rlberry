{
  "nbformat": 4,
  "nbformat_minor": 0,
  "metadata": {
    "colab": {
      "name": "Experimental pipeline with rlberry.ipynb",
      "provenance": [],
      "collapsed_sections": [],
      "include_colab_link": true
    },
    "kernelspec": {
      "display_name": "Python 3",
      "language": "python",
      "name": "python3"
    },
    "language_info": {
      "codemirror_mode": {
        "name": "ipython",
        "version": 3
      },
      "file_extension": ".py",
      "mimetype": "text/x-python",
      "name": "python",
      "nbconvert_exporter": "python",
      "pygments_lexer": "ipython3",
      "version": "3.6.8"
    }
  },
  "cells": [
    {
      "cell_type": "markdown",
      "metadata": {
        "id": "view-in-github",
        "colab_type": "text"
      },
      "source": [
        "<a href=\"https://colab.research.google.com/github/rlberry-py/rlberry/blob/main/notebooks/experimental_pipeline_with_rlberry.ipynb\" target=\"_parent\"><img src=\"https://colab.research.google.com/assets/colab-badge.svg\" alt=\"Open In Colab\"/></a>"
      ]
    },
    {
      "cell_type": "markdown",
      "metadata": {
        "id": "PchFMWDI4C-G"
      },
      "source": [
        "# Experimental pipeline with `rlberry`\n",
        "\n",
        "In this notebook, you will see:\n",
        "\n",
        "* How to use the `AgentStats` class to compare two deep RL algorithms: `A2C` and `PPO`\n",
        "* How `AgentStats` can optimize hyperparameters with one line of code (thanks to `Optuna`).\n",
        "* How to save all the parameters of the experiments in a `config.json` file (using `Sacred`)."
      ]
    },
    {
      "cell_type": "markdown",
      "metadata": {
        "id": "cLG4SqWP39vS"
      },
      "source": [
        "# Colab setup"
      ]
    },
    {
      "cell_type": "code",
      "metadata": {
        "colab": {
          "base_uri": "https://localhost:8080/"
        },
        "id": "hBIoTScH36yA",
        "outputId": "eacf6e83-a784-4da2-eeaf-ab96564fecb7"
      },
      "source": [
        "# install rlberry library, full version\n",
        "!git clone https://github.com/rlberry-py/rlberry.git \n",
        "!cd rlberry && git pull && pip install -e .[full] > /dev/null 2>&1\n",
        "\n",
        "# install ffmpeg-python for saving videos\n",
        "!pip install ffmpeg-python > /dev/null 2>&1\n",
        "\n",
        "# install optuna for hyperparameter optimization\n",
        "!pip install optuna > /dev/null 2>&1\n",
        "\n",
        "# packages required to show video\n",
        "!pip install pyvirtualdisplay > /dev/null 2>&1\n",
        "!apt-get install -y xvfb python-opengl ffmpeg > /dev/null 2>&1\n",
        "\n",
        "print(\"\")\n",
        "print(\" ~~~  Libraries installed, please restart the runtime! ~~~ \")\n",
        "print(\"\")"
      ],
      "execution_count": 1,
      "outputs": [
        {
          "output_type": "stream",
          "text": [
            "Cloning into 'rlberry'...\n",
            "remote: Enumerating objects: 619, done.\u001b[K\n",
            "remote: Counting objects: 100% (619/619), done.\u001b[K\n",
            "remote: Compressing objects: 100% (403/403), done.\u001b[K\n",
            "remote: Total 3045 (delta 368), reused 406 (delta 213), pack-reused 2426\u001b[K\n",
            "Receiving objects: 100% (3045/3045), 804.06 KiB | 7.81 MiB/s, done.\n",
            "Resolving deltas: 100% (1887/1887), done.\n",
            "Already up to date.\n",
            "\n",
            " ~~~  Libraries installed, please restart the runtime! ~~~ \n",
            "\n"
          ],
          "name": "stdout"
        }
      ]
    },
    {
      "cell_type": "markdown",
      "metadata": {
        "id": "IJ947MCl4dtC"
      },
      "source": [
        "# Imports and experiment setup"
      ]
    },
    {
      "cell_type": "code",
      "metadata": {
        "id": "t2GwVpeqVXyx"
      },
      "source": [
        "# Clear ouput dir\n",
        "!rm -r experiment_dir/*"
      ],
      "execution_count": 8,
      "outputs": []
    },
    {
      "cell_type": "code",
      "metadata": {
        "id": "q05ewSGf4h1o"
      },
      "source": [
        "import rlberry.seeding as seeding\n",
        "from rlberry.agents import PPOAgent, A2CAgent\n",
        "from rlberry.envs.benchmarks.ball_exploration.ball2d import get_benchmark_env\n",
        "from rlberry.stats import AgentStats, compare_policies, plot_episode_rewards\n",
        "from sacred import Experiment\n",
        "from sacred.observers import FileStorageObserver\n",
        "\n",
        "from sacred import SETTINGS\n",
        "SETTINGS['CAPTURE_MODE'] = 'sys' # workaround to avoid problems with sacred + multiprocessing (https://github.com/IDSIA/sacred/issues/711)\n",
        "\n",
        "# Create experiment\n",
        "ex = Experiment('demo_ppo_vs_a2c', interactive=True)  # interactive only for the notebook\n",
        "\n",
        "# Create output folder to store configs\n",
        "fs_observer = FileStorageObserver.create(\"experiment_dir\")\n",
        "ex.observers.append(fs_observer)"
      ],
      "execution_count": 9,
      "outputs": []
    },
    {
      "cell_type": "code",
      "metadata": {
        "id": "vVr_BF814qZS"
      },
      "source": [
        "@ex.config\n",
        "def cfg():\n",
        "    \"\"\"\n",
        "    Defines experiment parameters, using the Sacred library.\n",
        "    See Sacred documentation at https://sacred.readthedocs.io/en/stable/\n",
        "    \"\"\"\n",
        "    params = {}\n",
        "    params['ppo'] = {\n",
        "                    \"n_episodes\": 100,\n",
        "                    \"gamma\": 0.99,\n",
        "                    \"horizon\": 50,\n",
        "                    }\n",
        "\n",
        "    params['a2c'] = {\n",
        "                    \"n_episodes\": 100,\n",
        "                    \"gamma\": 0.99,\n",
        "                    \"horizon\": 50,\n",
        "                    }\n",
        "\n",
        "    optimize_hyperparams = True\n",
        "\n",
        "    rlberry_seed = 123\n"
      ],
      "execution_count": 10,
      "outputs": []
    },
    {
      "cell_type": "markdown",
      "metadata": {
        "id": "-Vl3JP-L4_5_"
      },
      "source": [
        "# Run experiment"
      ]
    },
    {
      "cell_type": "code",
      "metadata": {
        "colab": {
          "base_uri": "https://localhost:8080/",
          "height": 1000
        },
        "id": "VIA57gwM46df",
        "outputId": "71d92719-1970-4805-cb8f-99cb588562f4"
      },
      "source": [
        "@ex.main\n",
        "def run_experiment(rlberry_seed,\n",
        "                   params,\n",
        "                   optimize_hyperparams):\n",
        "    \"\"\"\n",
        "    Main experiment function\n",
        "    \"\"\"   \n",
        "    # Set seed\n",
        "    seeding.set_global_seed(rlberry_seed)\n",
        "    # Choose environment\n",
        "    env = get_benchmark_env(level=1)\n",
        "\n",
        "    # Initialize AgentStats\n",
        "    stats = {}\n",
        "    stats['ppo'] = AgentStats(PPOAgent,\n",
        "                              env,\n",
        "                              init_kwargs=params['ppo'],\n",
        "                              eval_horizon=params['ppo']['horizon'],\n",
        "                              n_fit=4,\n",
        "                              output_dir=fs_observer.dir)  # set ouput_dir as the one used by Sacred\n",
        "\n",
        "    stats['a2c'] = AgentStats(A2CAgent,\n",
        "                              env,\n",
        "                              init_kwargs=params['a2c'],\n",
        "                              eval_horizon=params['a2c']['horizon'],\n",
        "                              n_fit=4,\n",
        "                              output_dir=fs_observer.dir)\n",
        "\n",
        "    agent_stats_list = stats.values()\n",
        "\n",
        "    # Optimize hyperparameters\n",
        "    # For more information on how optimize_hyperparams work,\n",
        "    # readers are invited to consult the documentation of Optuna:\n",
        "    # https://optuna.readthedocs.io/en/stable/\n",
        "    if optimize_hyperparams:\n",
        "        for stats in agent_stats_list:\n",
        "            # timeout after 10 seconds\n",
        "            stats.optimize_hyperparams(n_trials=50, timeout=10, n_fit=1)\n",
        "    \n",
        "    # Fit agents with optimized hyperparams, and save results\n",
        "    for stats in agent_stats_list:\n",
        "        stats.fit()\n",
        "        stats.save_results()\n",
        "\n",
        "    # Learning curves\n",
        "    plot_episode_rewards(agent_stats_list, cumulative=True, show=False)\n",
        "\n",
        "    # Compare final policies\n",
        "    output = compare_policies(agent_stats_list, n_sim=10)\n",
        "    print(output)\n",
        "\n",
        "\n",
        "ex.run()"
      ],
      "execution_count": 11,
      "outputs": [
        {
          "output_type": "stream",
          "text": [
            "[INFO] Running command 'run_experiment' \n",
            "[INFO] Started run with ID \"1\" \n",
            "\u001b[32m[I 2020-12-01 12:45:45,531]\u001b[0m A new study created in memory with name: no-name-c553da79-72cc-47f7-b9ce-424abbd44bf2\u001b[0m\n",
            "[INFO] [PPO] | episode = 25.000 | ep reward = 0.480 | freq = 27.992 logs/ms \n",
            "[INFO] [PPO] | episode = 25.000 | ep reward = 8.044 | freq = 27.826 logs/ms \n",
            "[INFO] [PPO] | episode = 50.000 | ep reward = 0.359 | freq = 20.057 logs/ms \n",
            "[INFO] [PPO] | episode = 50.000 | ep reward = 2.753 | freq = 19.934 logs/ms \n",
            "[INFO] [PPO] | episode = 75.000 | ep reward = 0.026 | freq = 22.385 logs/ms \n",
            "[INFO] [PPO] | episode = 75.000 | ep reward = 4.065 | freq = 21.622 logs/ms \n",
            "[INFO] [PPO] | episode = 100.000 | ep reward = 0.406 | freq = 24.612 logs/ms \n",
            "[INFO] [PPO] | episode = 100.000 | ep reward = 3.804 | freq = 24.956 logs/ms \n",
            "\u001b[32m[I 2020-12-01 12:45:51,363]\u001b[0m Trial 1 finished with value: 0.10280699071069384 and parameters: {'batch_size': 64, 'learning_rate': 0.040040842609794736}. Best is trial 1 with value: 0.10280699071069384.\u001b[0m\n",
            "\u001b[32m[I 2020-12-01 12:45:51,384]\u001b[0m Trial 0 finished with value: 3.2720191242400007 and parameters: {'batch_size': 64, 'learning_rate': 0.5514134074293915}. Best is trial 0 with value: 3.2720191242400007.\u001b[0m\n",
            "[INFO] [PPO] | episode = 25.000 | ep reward = 0.321 | freq = 29.903 logs/ms \n",
            "[INFO] [PPO] | episode = 25.000 | ep reward = 2.669 | freq = 24.079 logs/ms \n",
            "[INFO] [PPO] | episode = 50.000 | ep reward = 0.486 | freq = 25.089 logs/ms \n",
            "\u001b[32m[I 2020-12-01 12:45:53,880]\u001b[0m Trial 2 pruned. \u001b[0m\n",
            "[INFO] [PPO] | episode = 50.000 | ep reward = 4.950 | freq = 21.108 logs/ms \n",
            "[INFO] [PPO] | episode = 25.000 | ep reward = 4.202 | freq = 26.453 logs/ms \n",
            "[INFO] [PPO] | episode = 75.000 | ep reward = 3.658 | freq = 20.497 logs/ms \n",
            "[INFO] [PPO] | episode = 50.000 | ep reward = 14.510 | freq = 21.037 logs/ms \n",
            "[INFO] [PPO] | episode = 100.000 | ep reward = 4.991 | freq = 21.568 logs/ms \n",
            "\u001b[32m[I 2020-12-01 12:45:57,406]\u001b[0m Trial 3 finished with value: 4.303850969354628 and parameters: {'batch_size': 8, 'learning_rate': 0.6589433689172297}. Best is trial 3 with value: 4.303850969354628.\u001b[0m\n",
            "[INFO] [PPO] | episode = 75.000 | ep reward = 11.234 | freq = 33.143 logs/ms \n",
            "[INFO] [PPO] | episode = 100.000 | ep reward = 13.235 | freq = 50.000 logs/ms \n",
            "\u001b[32m[I 2020-12-01 12:45:58,212]\u001b[0m Trial 4 finished with value: 11.943699454449968 and parameters: {'batch_size': 16, 'learning_rate': 0.00248290562404564}. Best is trial 4 with value: 11.943699454449968.\u001b[0m\n",
            "[INFO] Number of finished trials: 5 \n",
            "[INFO] Best trial: \n",
            "[INFO] Value: 11.943699454449968 \n",
            "[INFO] Params: \n",
            "[INFO]     batch_size: 16 \n",
            "[INFO]     learning_rate: 0.00248290562404564 \n",
            "\u001b[32m[I 2020-12-01 12:45:58,321]\u001b[0m A new study created in memory with name: no-name-4a5f5f7c-93aa-488d-855a-d51aa165e26e\u001b[0m\n",
            "[INFO] [A2C] | episode = 25.000 | ep reward = 0.001 | freq = 29.478 logs/ms \n",
            "[INFO] [A2C] | episode = 25.000 | ep reward = 4.157 | freq = 24.600 logs/ms \n",
            "[INFO] [A2C] | episode = 50.000 | ep reward = 1.625 | freq = 24.141 logs/ms \n",
            "[INFO] [A2C] | episode = 50.000 | ep reward = 4.541 | freq = 20.445 logs/ms \n",
            "[INFO] [A2C] | episode = 75.000 | ep reward = 0.510 | freq = 21.346 logs/ms \n",
            "[INFO] [A2C] | episode = 75.000 | ep reward = 3.265 | freq = 20.895 logs/ms \n",
            "[INFO] [A2C] | episode = 100.000 | ep reward = 0.329 | freq = 23.419 logs/ms \n",
            "\u001b[32m[I 2020-12-01 12:46:03,802]\u001b[0m Trial 1 finished with value: 0.415830971373799 and parameters: {'batch_size': 64, 'learning_rate': 0.5102534529573056}. Best is trial 1 with value: 0.415830971373799.\u001b[0m\n",
            "[INFO] [A2C] | episode = 100.000 | ep reward = 3.392 | freq = 19.567 logs/ms \n",
            "\u001b[32m[I 2020-12-01 12:46:04,567]\u001b[0m Trial 0 finished with value: 3.7458499420235447 and parameters: {'batch_size': 8, 'learning_rate': 0.02252913895362045}. Best is trial 0 with value: 3.7458499420235447.\u001b[0m\n",
            "[INFO] [A2C] | episode = 25.000 | ep reward = 2.653 | freq = 25.976 logs/ms \n",
            "[INFO] [A2C] | episode = 25.000 | ep reward = 4.264 | freq = 20.621 logs/ms \n",
            "[INFO] [A2C] | episode = 50.000 | ep reward = 3.982 | freq = 20.893 logs/ms \n",
            "\u001b[32m[I 2020-12-01 12:46:06,765]\u001b[0m Trial 2 pruned. \u001b[0m\n",
            "[INFO] [A2C] | episode = 50.000 | ep reward = 4.135 | freq = 18.286 logs/ms \n",
            "[INFO] [A2C] | episode = 25.000 | ep reward = 4.137 | freq = 27.245 logs/ms \n",
            "[INFO] [A2C] | episode = 50.000 | ep reward = 0.177 | freq = 21.377 logs/ms \n",
            "\u001b[32m[I 2020-12-01 12:46:09,638]\u001b[0m Trial 4 pruned. \u001b[0m\n",
            "[INFO] [A2C] | episode = 75.000 | ep reward = 3.659 | freq = 17.761 logs/ms \n",
            "[INFO] [A2C] | episode = 100.000 | ep reward = 3.058 | freq = 50.000 logs/ms \n",
            "\u001b[32m[I 2020-12-01 12:46:10,384]\u001b[0m Trial 3 finished with value: 3.6905705670337907 and parameters: {'batch_size': 4, 'learning_rate': 0.06105063869571411}. Best is trial 0 with value: 3.7458499420235447.\u001b[0m\n",
            "[INFO] Number of finished trials: 5 \n",
            "[INFO] Best trial: \n",
            "[INFO] Value: 3.7458499420235447 \n",
            "[INFO] Params: \n",
            "[INFO]     batch_size: 8 \n",
            "[INFO]     learning_rate: 0.02252913895362045 \n",
            "[INFO] Training AgentStats for PPO...  \n",
            "[Parallel(n_jobs=4)]: Using backend LokyBackend with 4 concurrent workers.\n",
            "[Parallel(n_jobs=4)]: Done   2 out of   4 | elapsed:    6.2s remaining:    6.2s\n",
            "[Parallel(n_jobs=4)]: Done   4 out of   4 | elapsed:    6.2s remaining:    0.0s\n",
            "[Parallel(n_jobs=4)]: Done   4 out of   4 | elapsed:    6.2s finished\n",
            "[INFO] ... trained! \n",
            "[WARNING] Could not save entry [n_episodes] of fit_statistics. \n",
            "[INFO] Training AgentStats for A2C...  \n",
            "[Parallel(n_jobs=4)]: Using backend LokyBackend with 4 concurrent workers.\n",
            "[Parallel(n_jobs=4)]: Done   2 out of   4 | elapsed:    6.2s remaining:    6.2s\n",
            "[Parallel(n_jobs=4)]: Done   4 out of   4 | elapsed:    6.4s remaining:    0.0s\n",
            "[Parallel(n_jobs=4)]: Done   4 out of   4 | elapsed:    6.4s finished\n",
            "[INFO] ... trained! \n",
            "[WARNING] Could not save entry [n_episodes] of fit_statistics. \n"
          ],
          "name": "stderr"
        },
        {
          "output_type": "display_data",
          "data": {
            "image/png": "[encoded data removed]",
            "text/plain": [
              "<Figure size 432x288 with 1 Axes>"
            ]
          },
          "metadata": {
            "tags": [],
            "needs_background": "light"
          }
        },
        {
          "output_type": "display_data",
          "data": {
            "image/png": "[encoded data removed]",
            "text/plain": [
              "<Figure size 432x288 with 1 Axes>"
            ]
          },
          "metadata": {
            "tags": [],
            "needs_background": "light"
          }
        },
        {
          "output_type": "stream",
          "text": [
            "[INFO] Completed after 0:00:38 \n"
          ],
          "name": "stderr"
        },
        {
          "output_type": "stream",
          "text": [
            "         PPO       A2C\n",
            "0  15.796763  5.410952\n",
            "1  12.995721  3.851343\n",
            "2  16.386682  3.481529\n",
            "3  16.185346  3.122430\n",
            "4  12.048446  3.553358\n",
            "5  13.383890  5.176494\n",
            "6   9.037517  4.253447\n",
            "7  13.606320  3.995919\n",
            "8  15.206549  4.464988\n",
            "9  12.169362  4.961921\n"
          ],
          "name": "stdout"
        },
        {
          "output_type": "execute_result",
          "data": {
            "text/plain": [
              "<sacred.run.Run at 0x7f2dee7c1cc0>"
            ]
          },
          "metadata": {
            "tags": []
          },
          "execution_count": 11
        }
      ]
    },
    {
      "cell_type": "markdown",
      "metadata": {
        "id": "BXGpZHaq6ESb"
      },
      "source": [
        "# Check output"
      ]
    },
    {
      "cell_type": "code",
      "metadata": {
        "colab": {
          "base_uri": "https://localhost:8080/"
        },
        "id": "KnWsHchQ6IZL",
        "outputId": "b9582640-3878-475a-d284-42d9ad5c75da"
      },
      "source": [
        "# Input configuration\n",
        "!cat experiment_dir/1/config.json\n",
        "# Optimized hyperparameters\n",
        "!cat experiment_dir/1/best_hyperparams_A2C.json\n",
        "!cat experiment_dir/1/best_hyperparams_PPO.json\n",
        "\n",
        "# And other output files (.csv with episode rewards, for instance)\n",
        "!ls experiment_dir/1/"
      ],
      "execution_count": 13,
      "outputs": [
        {
          "output_type": "stream",
          "text": [
            "{\n",
            "  \"__doc__\": \"\\nDefines experiment parameters, using the Sacred library.\\nSee Sacred documentation at https://sacred.readthedocs.io/en/stable/\\n\",\n",
            "  \"optimize_hyperparams\": true,\n",
            "  \"params\": {\n",
            "    \"a2c\": {\n",
            "      \"gamma\": 0.99,\n",
            "      \"horizon\": 50,\n",
            "      \"n_episodes\": 100\n",
            "    },\n",
            "    \"ppo\": {\n",
            "      \"gamma\": 0.99,\n",
            "      \"horizon\": 50,\n",
            "      \"n_episodes\": 100\n",
            "    }\n",
            "  },\n",
            "  \"rlberry_seed\": 123,\n",
            "  \"seed\": 304295250\n",
            "}{\n",
            "    \"batch_size\": 8,\n",
            "    \"learning_rate\": 0.02252913895362045\n",
            "}{\n",
            "    \"batch_size\": 16,\n",
            "    \"learning_rate\": 0.00248290562404564\n",
            "}best_hyperparams_A2C.json  cout.txt\t stats_episode_rewards_A2C.csv\n",
            "best_hyperparams_PPO.json  metrics.json  stats_episode_rewards_PPO.csv\n",
            "config.json\t\t   run.json\n"
          ],
          "name": "stdout"
        }
      ]
    }
  ]
}