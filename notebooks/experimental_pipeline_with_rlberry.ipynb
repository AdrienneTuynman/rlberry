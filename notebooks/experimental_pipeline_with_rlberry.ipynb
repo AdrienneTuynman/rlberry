{
 "cells": [
  {
   "cell_type": "markdown",
   "metadata": {
    "colab_type": "text",
    "id": "view-in-github"
   },
   "source": [
    "<a href=\"https://colab.research.google.com/github/rlberry-py/rlberry/blob/main/notebooks/Experimental_pipeline_with_rlberry.ipynb\" target=\"_parent\"><img src=\"https://colab.research.google.com/assets/colab-badge.svg\" alt=\"Open In Colab\"/></a>"
   ]
  },
  {
   "cell_type": "markdown",
   "metadata": {
    "id": "PchFMWDI4C-G"
   },
   "source": [
    "# Experimental pipeline with `rlberry`\n",
    "\n",
    "In this notebook, you will see:\n",
    "\n",
    "* How to use the `AgentStats` class to compare two deep RL algorithms: `A2C` and `PPO`\n",
    "* How `AgentStats` can optimize hyperparameters with one line of code (thanks to `Optuna`).\n",
    "* How to save all the parameters of the experiments in a `config.json` file (using `sacred`)."
   ]
  },
  {
   "cell_type": "markdown",
   "metadata": {
    "id": "cLG4SqWP39vS"
   },
   "source": [
    "# Colab setup"
   ]
  },
  {
   "cell_type": "code",
   "execution_count": null,
   "metadata": {
    "colab": {
     "base_uri": "https://localhost:8080/"
    },
    "id": "hBIoTScH36yA",
    "outputId": "bf491362-1d7b-43f5-b363-bb7ed509b5bc"
   },
   "outputs": [
    {
     "name": "stdout",
     "output_type": "stream",
     "text": [
      "fatal: destination path 'rlberry' already exists and is not an empty directory.\n",
      "Already up to date.\n",
      "\n",
      " ~~~  Libraries installed, please restart the runtime! ~~~ \n",
      "\n"
     ]
    }
   ],
   "source": [
    "# install rlberry library, full version\n",
    "!git clone https://github.com/rlberry-py/rlberry.git \n",
    "!cd rlberry && git pull && pip install -e .[full] > /dev/null 2>&1\n",
    "\n",
    "# install ffmpeg-python for saving videos\n",
    "!pip install ffmpeg-python > /dev/null 2>&1\n",
    "\n",
    "# install optuna for hyperparameter optimization\n",
    "!pip install optuna > /dev/null 2>&1\n",
    "\n",
    "# packages required to show video\n",
    "!pip install pyvirtualdisplay > /dev/null 2>&1\n",
    "!apt-get install -y xvfb python-opengl ffmpeg > /dev/null 2>&1\n",
    "\n",
    "print(\"\")\n",
    "print(\" ~~~  Libraries installed, please restart the runtime! ~~~ \")\n",
    "print(\"\")"
   ]
  },
  {
   "cell_type": "markdown",
   "metadata": {
    "id": "IJ947MCl4dtC"
   },
   "source": [
    "# Imports and experiment setup"
   ]
  },
  {
   "cell_type": "code",
   "execution_count": null,
   "metadata": {
    "id": "q05ewSGf4h1o"
   },
   "outputs": [],
   "source": [
    "import rlberry.seeding as seeding\n",
    "from rlberry.agents import PPOAgent, A2CAgent\n",
    "from rlberry.envs.benchmarks.ball_exploration.ball2d import get_benchmark_env\n",
    "from rlberry.stats import AgentStats, compare_policies, plot_episode_rewards\n",
    "from sacred import Experiment\n",
    "from sacred.observers import FileStorageObserver\n",
    "\n",
    "from sacred import SETTINGS\n",
    "SETTINGS['CAPTURE_MODE'] = 'sys' # workaround to avoid problems with sacred + multiprocessing (https://github.com/IDSIA/sacred/issues/711)\n",
    "\n",
    "# Create experiment\n",
    "ex = Experiment('demo_ppo_vs_a2c', interactive=True)  # interactive only for the notebook\n",
    "\n",
    "# Create output folder to store configs\n",
    "fs_observer = FileStorageObserver.create(\"experiment_dir\")\n",
    "ex.observers.append(fs_observer)"
   ]
  },
  {
   "cell_type": "code",
   "execution_count": null,
   "metadata": {
    "id": "vVr_BF814qZS"
   },
   "outputs": [],
   "source": [
    "@ex.config\n",
    "def cfg():\n",
    "    \"\"\"\n",
    "    Defines experiment parameters, using the Sacred library.\n",
    "    See Sacred documentation at https://sacred.readthedocs.io/en/stable/\n",
    "    \"\"\"\n",
    "    params = {}\n",
    "    params['ppo'] = {\n",
    "                    \"n_episodes\": 100,\n",
    "                    \"gamma\": 0.99,\n",
    "                    \"horizon\": 50,\n",
    "                    \"learning_rate\": 0.0003\n",
    "                    }\n",
    "\n",
    "    params['a2c'] = {\n",
    "                    \"n_episodes\": 100,\n",
    "                    \"gamma\": 0.99,\n",
    "                    \"horizon\": 50,\n",
    "                    \"learning_rate\": 0.0003\n",
    "                    }\n",
    "\n",
    "    optimize_hyperparams = True\n",
    "\n",
    "    rlberry_seed = 123\n"
   ]
  },
  {
   "cell_type": "markdown",
   "metadata": {
    "id": "-Vl3JP-L4_5_"
   },
   "source": [
    "# Run experiment"
   ]
  },
  {
   "cell_type": "code",
   "execution_count": null,
   "metadata": {
    "colab": {
     "base_uri": "https://localhost:8080/",
     "height": 1000
    },
    "id": "VIA57gwM46df",
    "outputId": "63ed4d4b-ea86-45a0-9733-d4e0e1724ae0"
   },
   "outputs": [
    {
     "name": "stderr",
     "output_type": "stream",
     "text": [
      "INFO - demo_ppo_vs_a2c - Running command 'run_experiment'\n",
      "INFO - demo_ppo_vs_a2c - Started run with ID \"5\"\n",
      "\u001b[32m[I 2020-11-28 22:20:56,203]\u001b[0m A new study created in memory with name: no-name-ac102e8a-e4e9-4074-b5e1-dba8bb7880d7\u001b[0m\n",
      "\u001b[32m[I 2020-11-28 22:21:01,581]\u001b[0m Trial 1 pruned. \u001b[0m\n",
      "\u001b[32m[I 2020-11-28 22:21:02,347]\u001b[0m Trial 0 finished with value: 17.382293429581892 and parameters: {'batch_size': 8, 'learning_rate': 0.030917443925223685}. Best is trial 0 with value: 17.382293429581892.\u001b[0m\n",
      "\u001b[32m[I 2020-11-28 22:21:06,717]\u001b[0m Trial 2 pruned. \u001b[0m\n",
      "\u001b[32m[I 2020-11-28 22:21:06,986]\u001b[0m Trial 3 pruned. \u001b[0m\n",
      "\u001b[32m[I 2020-11-28 22:21:07,058]\u001b[0m A new study created in memory with name: no-name-62489a4b-08c8-4da2-b7f4-44f6c2c29892\u001b[0m\n"
     ]
    },
    {
     "name": "stdout",
     "output_type": "stream",
     "text": [
      "Number of finished trials:  4\n",
      "Best trial:\n",
      "Value:  17.382293429581892\n",
      "Params: \n",
      "    batch_size: 8\n",
      "    learning_rate: 0.030917443925223685\n"
     ]
    },
    {
     "name": "stderr",
     "output_type": "stream",
     "text": [
      "\u001b[32m[I 2020-11-28 22:21:13,069]\u001b[0m Trial 0 finished with value: 2.376266062333506 and parameters: {'batch_size': 64, 'learning_rate': 0.0003639323504953473}. Best is trial 0 with value: 2.376266062333506.\u001b[0m\n",
      "\u001b[32m[I 2020-11-28 22:21:14,558]\u001b[0m Trial 1 finished with value: 13.676505892756168 and parameters: {'batch_size': 4, 'learning_rate': 0.0005354382904356551}. Best is trial 1 with value: 13.676505892756168.\u001b[0m\n",
      "\u001b[32m[I 2020-11-28 22:21:15,998]\u001b[0m Trial 2 pruned. \u001b[0m\n",
      "\u001b[32m[I 2020-11-28 22:21:20,007]\u001b[0m Trial 3 pruned. \u001b[0m\n",
      "\u001b[32m[I 2020-11-28 22:21:20,629]\u001b[0m Trial 4 finished with value: 16.360456786816346 and parameters: {'batch_size': 32, 'learning_rate': 0.0038090157341116684}. Best is trial 4 with value: 16.360456786816346.\u001b[0m\n"
     ]
    },
    {
     "name": "stdout",
     "output_type": "stream",
     "text": [
      "Number of finished trials:  5\n",
      "Best trial:\n",
      "Value:  16.360456786816346\n",
      "Params: \n",
      "    batch_size: 32\n",
      "    learning_rate: 0.0038090157341116684\n",
      "\n",
      " Training AgentStats for PPO... \n",
      "\n"
     ]
    },
    {
     "name": "stderr",
     "output_type": "stream",
     "text": [
      "[Parallel(n_jobs=4)]: Using backend LokyBackend with 4 concurrent workers.\n",
      "[Parallel(n_jobs=4)]: Done   2 out of   4 | elapsed:   14.6s remaining:   14.6s\n",
      "[Parallel(n_jobs=4)]: Done   4 out of   4 | elapsed:   14.9s remaining:    0.0s\n",
      "[Parallel(n_jobs=4)]: Done   4 out of   4 | elapsed:   14.9s finished\n",
      "[Parallel(n_jobs=4)]: Using backend LokyBackend with 4 concurrent workers.\n"
     ]
    },
    {
     "name": "stdout",
     "output_type": "stream",
     "text": [
      "\n",
      " ... trained! \n",
      "\n",
      "\n",
      " Training AgentStats for A2C... \n",
      "\n"
     ]
    },
    {
     "name": "stderr",
     "output_type": "stream",
     "text": [
      "[Parallel(n_jobs=4)]: Done   2 out of   4 | elapsed:    5.6s remaining:    5.6s\n",
      "[Parallel(n_jobs=4)]: Done   4 out of   4 | elapsed:    5.7s remaining:    0.0s\n",
      "[Parallel(n_jobs=4)]: Done   4 out of   4 | elapsed:    5.7s finished\n"
     ]
    },
    {
     "name": "stdout",
     "output_type": "stream",
     "text": [
      "\n",
      " ... trained! \n",
      "\n"
     ]
    },
    {
     "data": {
      "image/png": "[encoded data removed]",
      "text/plain": [
       "<Figure size 432x288 with 1 Axes>"
      ]
     },
     "metadata": {
      "needs_background": "light",
      "tags": []
     },
     "output_type": "display_data"
    },
    {
     "data": {
      "image/png": "[encoded data removed]",
      "text/plain": [
       "<Figure size 432x288 with 1 Axes>"
      ]
     },
     "metadata": {
      "needs_background": "light",
      "tags": []
     },
     "output_type": "display_data"
    },
    {
     "name": "stderr",
     "output_type": "stream",
     "text": [
      "INFO - demo_ppo_vs_a2c - Completed after 0:00:46\n"
     ]
    },
    {
     "name": "stdout",
     "output_type": "stream",
     "text": [
      "         PPO        A2C\n",
      "0   6.969469  15.372098\n",
      "1  15.180296  16.120491\n",
      "2  14.988639  15.226920\n",
      "3  15.057672  13.516891\n",
      "4  13.338193  15.421509\n",
      "5  12.320937  15.278921\n",
      "6  11.263593  16.787525\n",
      "7  13.060811  11.372292\n",
      "8  10.007426  13.472772\n",
      "9  11.908000  13.329104\n"
     ]
    },
    {
     "data": {
      "text/plain": [
       "<sacred.run.Run at 0x7f07c00a4f60>"
      ]
     },
     "execution_count": 3,
     "metadata": {
      "tags": []
     },
     "output_type": "execute_result"
    }
   ],
   "source": [
    "@ex.main\n",
    "def run_experiment(rlberry_seed,\n",
    "                   params,\n",
    "                   optimize_hyperparams):\n",
    "    \"\"\"\n",
    "    Main experiment function\n",
    "    \"\"\"   \n",
    "    # Set seed\n",
    "    seeding.set_global_seed(rlberry_seed)\n",
    "    # Choose environment\n",
    "    env = get_benchmark_env(level=1)\n",
    "\n",
    "    # Initialize AgentStats\n",
    "    stats = {}\n",
    "    stats['ppo'] = AgentStats(PPOAgent,\n",
    "                              env,\n",
    "                              init_kwargs=params['ppo'],\n",
    "                              eval_horizon=params['ppo']['horizon'],\n",
    "                              n_fit=4)\n",
    "\n",
    "    stats['a2c'] = AgentStats(A2CAgent,\n",
    "                              env,\n",
    "                              init_kwargs=params['a2c'],\n",
    "                              eval_horizon=params['a2c']['horizon'],\n",
    "                              n_fit=4)\n",
    "\n",
    "    agent_stats_list = stats.values()\n",
    "\n",
    "    # Optimize hyperparameters\n",
    "    # For more information on how optimize_hyperparams work,\n",
    "    # readers are invited to consult the documentation of Optuna:\n",
    "    # https://optuna.readthedocs.io/en/stable/\n",
    "    if optimize_hyperparams:\n",
    "        for stats in agent_stats_list:\n",
    "            # timeout after 10 seconds\n",
    "            stats.optimize_hyperparams(n_trials=50, timeout=10, n_fit=1)\n",
    "\n",
    "    # Learning curves\n",
    "    plot_episode_rewards(agent_stats_list, cumulative=True, show=False)\n",
    "\n",
    "    # Compare final policies\n",
    "    output = compare_policies(agent_stats_list, n_sim=10)\n",
    "    print(output)\n",
    "\n",
    "\n",
    "ex.run()"
   ]
  },
  {
   "cell_type": "markdown",
   "metadata": {
    "id": "BXGpZHaq6ESb"
   },
   "source": [
    "# Check output  `config.json`"
   ]
  },
  {
   "cell_type": "code",
   "execution_count": null,
   "metadata": {
    "colab": {
     "base_uri": "https://localhost:8080/"
    },
    "id": "KnWsHchQ6IZL",
    "outputId": "a719bd15-d85d-4a29-b8dd-a14256e270e8"
   },
   "outputs": [
    {
     "name": "stdout",
     "output_type": "stream",
     "text": [
      "{\n",
      "  \"__doc__\": \"\\nDefines experiment parameters, using the Sacred library.\\nSee Sacred documentation at https://sacred.readthedocs.io/en/stable/\\n\",\n",
      "  \"optimize_hyperparams\": true,\n",
      "  \"params\": {\n",
      "    \"a2c\": {\n",
      "      \"gamma\": 0.99,\n",
      "      \"horizon\": 50,\n",
      "      \"learning_rate\": 0.0003,\n",
      "      \"n_episodes\": 100\n",
      "    },\n",
      "    \"ppo\": {\n",
      "      \"gamma\": 0.99,\n",
      "      \"horizon\": 50,\n",
      "      \"learning_rate\": 0.0003,\n",
      "      \"n_episodes\": 100\n",
      "    }\n",
      "  },\n",
      "  \"seed\": 884188587\n",
      "}"
     ]
    }
   ],
   "source": [
    "!cat experiment_dir/1/config.json"
   ]
  }
 ],
 "metadata": {
  "colab": {
   "authorship_tag": "ABX9TyPJlQARzjAMvwRYITdaKoRU",
   "collapsed_sections": [],
   "include_colab_link": true,
   "name": "Experimental pipeline with rlberry.ipynb",
   "provenance": []
  },
  "kernelspec": {
   "display_name": "Python 3",
   "language": "python",
   "name": "python3"
  },
  "language_info": {
   "codemirror_mode": {
    "name": "ipython",
    "version": 3
   },
   "file_extension": ".py",
   "mimetype": "text/x-python",
   "name": "python",
   "nbconvert_exporter": "python",
   "pygments_lexer": "ipython3",
   "version": "3.6.8"
  }
 },
 "nbformat": 4,
 "nbformat_minor": 4
}
