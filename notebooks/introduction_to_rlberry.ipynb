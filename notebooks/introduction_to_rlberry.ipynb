{
  "nbformat": 4,
  "nbformat_minor": 0,
  "metadata": {
    "colab": {
      "name": "Introduction to rlberry.ipynb",
      "provenance": [],
      "collapsed_sections": [],
      "include_colab_link": true
    },
    "kernelspec": {
      "name": "python3",
      "display_name": "Python 3.7.11 64-bit ('rlberry': conda)"
    },
    "language_info": {
      "name": "python",
      "version": "3.7.11",
      "mimetype": "text/x-python",
      "codemirror_mode": {
        "name": "ipython",
        "version": 3
      },
      "pygments_lexer": "ipython3",
      "nbconvert_exporter": "python",
      "file_extension": ".py"
    },
    "interpreter": {
      "hash": "77626d6da4f24721c6cde6592fa6521e12f75aa06b21b1ac25df0859aa7f2530"
    }
  },
  "cells": [
    {
      "cell_type": "markdown",
      "metadata": {
        "id": "view-in-github",
        "colab_type": "text"
      },
      "source": [
        "<a href=\"https://colab.research.google.com/github/rlberry-py/rlberry/blob/main/notebooks/introduction_to_rlberry.ipynb\" target=\"_parent\"><img src=\"https://colab.research.google.com/assets/colab-badge.svg\" alt=\"Open In Colab\"/></a>"
      ]
    },
    {
      "cell_type": "markdown",
      "metadata": {
        "id": "gVtvJ8vqQehR"
      },
      "source": [
        "# Introduction to\n",
        "<img src=\"https://raw.githubusercontent.com/rlberry-py/rlberry/main/assets/logo_wide.svg\" width=\"700\"/>\n",
        "\n",
        "\n"
      ]
    },
    {
      "cell_type": "markdown",
      "metadata": {
        "id": "BR9N_lSyTh-E"
      },
      "source": [
        "# Colab setup"
      ]
    },
    {
      "cell_type": "code",
      "metadata": {
        "id": "j2VU8Y7xQbSg",
        "colab": {
          "base_uri": "https://localhost:8080/"
        },
        "outputId": "71102a98-a446-49a4-968c-751817e9edc8"
      },
      "source": [
        "from IPython import get_ipython\n",
        "COLAB = False\n",
        "if 'google.colab' in str(get_ipython()):\n",
        "    COLAB = True\n",
        "\n",
        "if COLAB:\n",
        "    # install rlberry library\n",
        "    !git clone https://github.com/rlberry-py/rlberry.git \n",
        "    !cd rlberry && git pull && pip install -e . > /dev/null 2>&1\n",
        "\n",
        "    # install ffmpeg-python for saving videos\n",
        "    !pip install ffmpeg-python > /dev/null 2>&1\n",
        "\n",
        "    # install optuna for hyperparameter optimization\n",
        "    !pip install optuna > /dev/null 2>&1\n",
        "\n",
        "    # packages required to show video\n",
        "    !pip install pyvirtualdisplay > /dev/null 2>&1\n",
        "    !apt-get install -y xvfb python-opengl ffmpeg > /dev/null 2>&1\n",
        "\n",
        "    print(\"\")\n",
        "    print(\" ~~~  Libraries installed, please restart the runtime! ~~~ \")\n",
        "    print(\"\")\n"
      ],
      "execution_count": 13,
      "outputs": [
        {
          "output_type": "stream",
          "name": "stdout",
          "text": [
            "fatal: destination path 'rlberry' already exists and is not an empty directory.\n",
            "Already up to date.\n",
            "\n",
            " ~~~  Libraries installed, please restart the runtime! ~~~ \n",
            "\n"
          ]
        }
      ]
    },
    {
      "cell_type": "code",
      "metadata": {
        "id": "rvkt6z9pVUnv"
      },
      "source": [
        "# Create directory for saving videos\n",
        "!mkdir videos > /dev/null 2>&1\n",
        "\n",
        "# Initialize display and import function to show videos\n",
        "import rlberry.colab_utils.display_setup\n",
        "from rlberry.colab_utils.display_setup import show_video"
      ],
      "execution_count": 14,
      "outputs": []
    },
    {
      "cell_type": "markdown",
      "metadata": {
        "id": "BCCyreAiWikz"
      },
      "source": [
        "# Interacting with a simple environment"
      ]
    },
    {
      "cell_type": "code",
      "metadata": {
        "colab": {
          "base_uri": "https://localhost:8080/",
          "height": 441
        },
        "id": "M5qrjKk3WiHE",
        "outputId": "b8b7cb91-1bfc-4178-8741-6904173ad209"
      },
      "source": [
        "from rlberry.envs import GridWorld\n",
        "\n",
        "# A grid world is a simple environment with finite states and actions, on which \n",
        "# we can test simple algorithms.\n",
        "# -> The reward function can be accessed by: env.R[state, action]\n",
        "# -> And the transitions: env.P[state, action, next_state]\n",
        "env_ctor = GridWorld\n",
        "env_kwargs =dict(nrows=3, ncols=10,\n",
        "                reward_at = {(1,1):0.1, (2, 9):1.0},\n",
        "                walls=((1,4),(2,4), (1,5)),\n",
        "                success_probability=0.9)\n",
        "env = env_ctor(**env_kwargs)\n",
        "\n",
        "# Let's visuzalize a random policy in this environment!\n",
        "env.enable_rendering()\n",
        "env.reset()\n",
        "for tt in range(20):\n",
        "    action = env.action_space.sample()\n",
        "    next_state, reward, is_terminal, info = env.step(action)\n",
        "\n",
        "# save video and clear buffer\n",
        "env.save_video('./videos/gw.mp4', framerate=5)\n",
        "env.clear_render_buffer()\n",
        "# show video\n",
        "show_video('./videos/gw.mp4')"
      ],
      "execution_count": 15,
      "outputs": [
        {
          "output_type": "display_data",
          "data": {
            "text/html": [
              "<video alt=\"videos/gw.mp4\" autoplay\n",
              "                      loop controls style=\"height: 400px;\">\n",
              "                    <source src=\"data:video/mp4;base64,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\" type=\"video/mp4\" />\n",
              "                 </video>"
            ],
            "text/plain": [
              "<IPython.core.display.HTML object>"
            ]
          },
          "metadata": {}
        }
      ]
    },
    {
      "cell_type": "markdown",
      "metadata": {
        "id": "jWgoh5yoYuDE"
      },
      "source": [
        "# Creating an agent\n",
        "\n",
        "Let's create an agent that runs value iteration to find a near-optimal policy.\n",
        "This is possible in our GridWorld, because we have access to the transitions `env.P` and the rewards `env.R`.\n",
        "\n",
        "\n",
        "An `Agent` must implement at least two methods, **fit()** and **eval()**. These methods train and evaluate the agent, respectively. A convenient subclass of `Agent`, `AgentWithSimplePolicy`, requires a **policy()** method instead of **eval()** and implements a default `eval()` method that performs Monte-Carlo policy evaluation.\n",
        "\n",
        "It can also implement **sample_parameters()** used for hyperparameter optimization with [Optuna](https://optuna.org/).\n"
      ]
    },
    {
      "cell_type": "code",
      "metadata": {
        "id": "AJVMjW7WYspi"
      },
      "source": [
        "import numpy as np\n",
        "from rlberry.agents import AgentWithSimplePolicy\n",
        "\n",
        "class ValueIterationAgent(AgentWithSimplePolicy):\n",
        "    name = 'ValueIterationAgent'\n",
        "    def __init__(self, env, gamma=0.99, epsilon=1e-5, **kwargs):   # it's important to put **kwargs to ensure compatibility with the base class \n",
        "        \"\"\"\n",
        "        gamma: discount factor\n",
        "        episilon: precision of value iteration\n",
        "        \"\"\"\n",
        "        AgentWithSimplePolicy.__init__(self, env, **kwargs) # self.env is initialized in the base class\n",
        "\n",
        "        self.gamma = gamma\n",
        "        self.epsilon = epsilon \n",
        "        self.Q = None  # Q function to be computed in fit()\n",
        "    \n",
        "    def fit(self, budget=None, **kwargs):  \n",
        "        \"\"\"\n",
        "        Run value iteration.\n",
        "        \"\"\"\n",
        "        S, A = env.observation_space.n, env.action_space.n \n",
        "        Q = np.zeros((S, A))\n",
        "        V = np.zeros(S)\n",
        "\n",
        "        while True:\n",
        "            TQ = np.zeros((S, A))\n",
        "            for ss in range(S):\n",
        "                for aa in range(A):\n",
        "                    TQ[ss, aa] = env.R[ss, aa] + self.gamma*env.P[ss, aa, :].dot(V)\n",
        "            V = TQ.max(axis=1)\n",
        "\n",
        "            if np.abs(TQ-Q).max() < self.epsilon:\n",
        "                break\n",
        "            Q = TQ\n",
        "        self.Q = Q\n",
        "          \n",
        "    def policy(self, observation):\n",
        "        return self.Q[observation, :].argmax()\n",
        "\n",
        "    \n",
        "    @classmethod\n",
        "    def sample_parameters(cls, trial):\n",
        "      \"\"\"\n",
        "      Sample hyperparameters for hyperparam optimization using Optuna (https://optuna.org/)\n",
        "      \"\"\"\n",
        "      gamma = trial.suggest_categorical('gamma', [0.1, 0.25, 0.5, 0.75, 0.99])\n",
        "      return {'gamma':gamma}\n"
      ],
      "execution_count": 16,
      "outputs": []
    },
    {
      "cell_type": "code",
      "metadata": {
        "colab": {
          "base_uri": "https://localhost:8080/",
          "height": 441
        },
        "id": "W3r5WHYZctYN",
        "outputId": "e8288247-9653-46f6-adf9-1363a6bfb2e7"
      },
      "source": [
        "# Now, let's fit and test the agent!\n",
        "agent = ValueIterationAgent(env)\n",
        "agent.fit()\n",
        "\n",
        "\n",
        "# Run agent's policy\n",
        "env.enable_rendering()\n",
        "state = env.reset()\n",
        "for tt in range(20):\n",
        "    action = agent.policy(state)\n",
        "    state, reward, is_terminal, info = env.step(action)\n",
        "\n",
        "# save video and clear buffer\n",
        "env.save_video('./videos/gw.mp4', framerate=5)\n",
        "env.clear_render_buffer()\n",
        "# show video\n",
        "show_video('./videos/gw.mp4')\n"
      ],
      "execution_count": 17,
      "outputs": [
        {
          "output_type": "display_data",
          "data": {
            "text/html": [
              "<video alt=\"videos/gw.mp4\" autoplay\n",
              "                      loop controls style=\"height: 400px;\">\n",
              "                    <source src=\"data:video/mp4;base64,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\" type=\"video/mp4\" />\n",
              "                 </video>"
            ],
            "text/plain": [
              "<IPython.core.display.HTML object>"
            ]
          },
          "metadata": {}
        }
      ]
    },
    {
      "cell_type": "markdown",
      "metadata": {
        "id": "7XV-Z1Znen44"
      },
      "source": [
        "# `AgentStats`: A powerfull class for hyperparameter optimization, training and evaluating agents."
      ]
    },
    {
      "cell_type": "code",
      "metadata": {
        "id": "l3OCUH2YfhOQ"
      },
      "source": [
        "# Create random agent as a baseline\n",
        "class RandomAgent(AgentWithSimplePolicy):\n",
        "    name = 'RandomAgent'\n",
        "    def __init__(self, env, gamma=0.99, epsilon=1e-5, **kwargs):   # it's important to put **kwargs to ensure compatibility with the base class \n",
        "        \"\"\"\n",
        "        gamma: discount factor\n",
        "        episilon: precision of value iteration\n",
        "        \"\"\"\n",
        "        AgentWithSimplePolicy.__init__(self, env, **kwargs) # self.env is initialized in the base class\n",
        "\n",
        "    def fit(self, budget=None, **kwargs):  \n",
        "        pass\n",
        "          \n",
        "    def policy(self, observation):\n",
        "        return self.env.action_space.sample()"
      ],
      "execution_count": 18,
      "outputs": []
    },
    {
      "cell_type": "code",
      "metadata": {
        "colab": {
          "base_uri": "https://localhost:8080/",
          "height": 913
        },
        "id": "ePl7Bqq2eniv",
        "outputId": "2add633b-94d7-4978-e40b-81915f255bd9"
      },
      "source": [
        "from rlberry.stats import AgentStats, evaluate_agents\n",
        "\n",
        "# Define parameters\n",
        "vi_params = {'gamma':0.1, 'epsilon':1e-3}\n",
        "\n",
        "# Create AgentStats to fit 4 agents using 1 job\n",
        "vi_stats = AgentStats(\n",
        "    ValueIterationAgent,\n",
        "    (env_ctor, env_kwargs),\n",
        "    fit_budget=0,\n",
        "    eval_kwargs=dict(eval_horizon=20),\n",
        "    init_kwargs=vi_params,\n",
        "    n_fit=4)\n",
        "vi_stats.fit()\n",
        "\n",
        "# Create AgentStats for baseline\n",
        "baseline_stats = AgentStats(\n",
        "    RandomAgent,\n",
        "    (env_ctor, env_kwargs),\n",
        "    fit_budget=0,\n",
        "    eval_kwargs=dict(eval_horizon=20),\n",
        "    n_fit=1)\n",
        "baseline_stats.fit()\n",
        "\n",
        "# Compare policies using 10 Monte Carlo simulations\n",
        "output = evaluate_agents([vi_stats, baseline_stats], n_simulations=10)\n"
      ],
      "execution_count": 19,
      "outputs": [
        {
          "output_type": "stream",
          "name": "stderr",
          "text": [
            "[INFO] Training AgentStats for ValueIterationAgent...  \n",
            "[INFO] Sucessful call to AgentHandler.dump() for <class '__main__.ValueIterationAgent'> \n",
            "[INFO] Sucessful call to AgentHandler.dump() for <class '__main__.ValueIterationAgent'> \n",
            "[INFO] Sucessful call to AgentHandler.dump() for <class '__main__.ValueIterationAgent'> \n",
            "[INFO] Sucessful call to AgentHandler.dump() for <class '__main__.ValueIterationAgent'> \n",
            "[INFO] ... trained! \n",
            "[INFO] Sucessful call to AgentHandler.load() for <class '__main__.ValueIterationAgent'> \n",
            "[INFO] Sucessful call to AgentHandler.load() for <class '__main__.ValueIterationAgent'> \n",
            "[INFO] Sucessful call to AgentHandler.load() for <class '__main__.ValueIterationAgent'> \n",
            "[INFO] Sucessful call to AgentHandler.load() for <class '__main__.ValueIterationAgent'> \n",
            "[INFO] Training AgentStats for RandomAgent...  \n",
            "[INFO] Sucessful call to AgentHandler.dump() for <class '__main__.RandomAgent'> \n",
            "[INFO] ... trained! \n",
            "[INFO] Sucessful call to AgentHandler.load() for <class '__main__.RandomAgent'> \n",
            "[INFO] Evaluating ValueIterationAgent... \n",
            "[INFO] ... simulation 1/10 \n",
            "[INFO] ... simulation 2/10 \n",
            "[INFO] ... simulation 3/10 \n",
            "[INFO] ... simulation 4/10 \n",
            "[INFO] ... simulation 5/10 \n",
            "[INFO] ... simulation 6/10 \n",
            "[INFO] ... simulation 7/10 \n",
            "[INFO] ... simulation 8/10 \n",
            "[INFO] ... simulation 9/10 \n",
            "[INFO] ... simulation 10/10 \n",
            "[INFO] Evaluating RandomAgent... \n",
            "[INFO] ... simulation 1/10 \n",
            "[INFO] ... simulation 2/10 \n",
            "[INFO] ... simulation 3/10 \n",
            "[INFO] ... simulation 4/10 \n",
            "[INFO] ... simulation 5/10 \n",
            "[INFO] ... simulation 6/10 \n",
            "[INFO] ... simulation 7/10 \n",
            "[INFO] ... simulation 8/10 \n",
            "[INFO] ... simulation 9/10 \n",
            "[INFO] ... simulation 10/10 \n"
          ]
        },
        {
          "output_type": "display_data",
          "data": {
            "image/png": "[encoded data removed]",
            "text/plain": [
              "<Figure size 432x288 with 1 Axes>"
            ]
          },
          "metadata": {
            "needs_background": "light"
          }
        }
      ]
    },
    {
      "cell_type": "code",
      "metadata": {
        "colab": {
          "base_uri": "https://localhost:8080/",
          "height": 1000
        },
        "id": "slTijRljiamE",
        "outputId": "af9a8b55-9f9a-41fc-9322-a61c27035a9b"
      },
      "source": [
        "# The value of gamma above makes our VI agent quite bad! Let's optimize it.\n",
        "vi_stats.optimize_hyperparams(n_trials=30, timeout=30, n_fit=1, sampler_method='random', pruner_method='none')\n",
        "\n",
        "# fit with optimized params\n",
        "vi_stats.fit()\n",
        "\n",
        "# ... and see the results\n",
        "output = evaluate_agents([vi_stats, baseline_stats])\n"
      ],
      "execution_count": 20,
      "outputs": [
        {
          "output_type": "stream",
          "name": "stdout",
          "text": [
            "Connected to temp/stats_ValueIterationAgent_1631006233/data_1396670606924321631006233.db (sqlite3 version = 2.6.0)\n"
          ]
        },
        {
          "output_type": "stream",
          "name": "stderr",
          "text": [
            "\u001b[32m[I 2021-09-07 09:17:15,921]\u001b[0m A new study created in RDB with name: no-name-699c7f92-4c35-4f2c-abd8-d77b11aed82c\u001b[0m\n",
            "[INFO] Sucessful call to AgentHandler.dump() for <class '__main__.ValueIterationAgent'> \n",
            "[INFO] Sucessful call to AgentHandler.dump() for <class '__main__.ValueIterationAgent'> \n",
            "[INFO] Sucessful call to AgentHandler.dump() for <class '__main__.ValueIterationAgent'> \n",
            "[INFO] Sucessful call to AgentHandler.dump() for <class '__main__.ValueIterationAgent'> \n",
            "[INFO] Saved AgentStats(ValueIterationAgent) using pickle. \n",
            "[INFO] Training AgentStats for optim...  \n",
            "[INFO] Sucessful call to AgentHandler.dump() for <class '__main__.ValueIterationAgent'> \n",
            "[INFO] ... trained! \n",
            "[INFO] Sucessful call to AgentHandler.load() for <class '__main__.ValueIterationAgent'> \n",
            "\u001b[32m[I 2021-09-07 09:17:16,308]\u001b[0m Trial 0 finished with value: 0.85 and parameters: {'gamma': 0.75}. Best is trial 0 with value: 0.85.\u001b[0m\n",
            "[INFO] Training AgentStats for optim...  \n",
            "[INFO] Sucessful call to AgentHandler.dump() for <class '__main__.ValueIterationAgent'> \n",
            "[INFO] ... trained! \n",
            "[INFO] Sucessful call to AgentHandler.load() for <class '__main__.ValueIterationAgent'> \n",
            "\u001b[32m[I 2021-09-07 09:17:16,747]\u001b[0m Trial 1 finished with value: 0.8299999999999998 and parameters: {'gamma': 0.1}. Best is trial 0 with value: 0.85.\u001b[0m\n",
            "[INFO] Training AgentStats for optim...  \n",
            "[INFO] Sucessful call to AgentHandler.dump() for <class '__main__.ValueIterationAgent'> \n",
            "[INFO] ... trained! \n",
            "[INFO] Sucessful call to AgentHandler.load() for <class '__main__.ValueIterationAgent'> \n",
            "\u001b[32m[I 2021-09-07 09:17:17,168]\u001b[0m Trial 2 finished with value: 0.7999999999999999 and parameters: {'gamma': 0.1}. Best is trial 0 with value: 0.85.\u001b[0m\n",
            "[INFO] Training AgentStats for optim...  \n",
            "[INFO] Sucessful call to AgentHandler.dump() for <class '__main__.ValueIterationAgent'> \n",
            "[INFO] ... trained! \n",
            "[INFO] Sucessful call to AgentHandler.load() for <class '__main__.ValueIterationAgent'> \n",
            "\u001b[32m[I 2021-09-07 09:17:17,761]\u001b[0m Trial 3 finished with value: 1.01 and parameters: {'gamma': 0.99}. Best is trial 3 with value: 1.01.\u001b[0m\n",
            "[INFO] Training AgentStats for optim...  \n",
            "[INFO] Sucessful call to AgentHandler.dump() for <class '__main__.ValueIterationAgent'> \n",
            "[INFO] ... trained! \n",
            "[INFO] Sucessful call to AgentHandler.load() for <class '__main__.ValueIterationAgent'> \n",
            "\u001b[32m[I 2021-09-07 09:17:18,178]\u001b[0m Trial 4 finished with value: 0.7599999999999999 and parameters: {'gamma': 0.1}. Best is trial 3 with value: 1.01.\u001b[0m\n",
            "[INFO] Training AgentStats for optim...  \n",
            "[INFO] Sucessful call to AgentHandler.dump() for <class '__main__.ValueIterationAgent'> \n",
            "[INFO] ... trained! \n",
            "[INFO] Sucessful call to AgentHandler.load() for <class '__main__.ValueIterationAgent'> \n",
            "\u001b[32m[I 2021-09-07 09:17:18,607]\u001b[0m Trial 5 finished with value: 0.7799999999999999 and parameters: {'gamma': 0.1}. Best is trial 3 with value: 1.01.\u001b[0m\n",
            "[INFO] Training AgentStats for optim...  \n",
            "[INFO] Sucessful call to AgentHandler.dump() for <class '__main__.ValueIterationAgent'> \n",
            "[INFO] ... trained! \n",
            "[INFO] Sucessful call to AgentHandler.load() for <class '__main__.ValueIterationAgent'> \n",
            "\u001b[32m[I 2021-09-07 09:17:19,223]\u001b[0m Trial 6 finished with value: 1.0 and parameters: {'gamma': 0.99}. Best is trial 3 with value: 1.01.\u001b[0m\n",
            "[INFO] Training AgentStats for optim...  \n",
            "[INFO] Sucessful call to AgentHandler.dump() for <class '__main__.ValueIterationAgent'> \n",
            "[INFO] ... trained! \n",
            "[INFO] Sucessful call to AgentHandler.load() for <class '__main__.ValueIterationAgent'> \n",
            "\u001b[32m[I 2021-09-07 09:17:19,644]\u001b[0m Trial 7 finished with value: 0.86 and parameters: {'gamma': 0.75}. Best is trial 3 with value: 1.01.\u001b[0m\n",
            "[INFO] Training AgentStats for optim...  \n",
            "[INFO] Sucessful call to AgentHandler.dump() for <class '__main__.ValueIterationAgent'> \n",
            "[INFO] ... trained! \n",
            "[INFO] Sucessful call to AgentHandler.load() for <class '__main__.ValueIterationAgent'> \n",
            "\u001b[32m[I 2021-09-07 09:17:20,084]\u001b[0m Trial 8 finished with value: 0.79 and parameters: {'gamma': 0.25}. Best is trial 3 with value: 1.01.\u001b[0m\n",
            "[INFO] Training AgentStats for optim...  \n",
            "[INFO] Sucessful call to AgentHandler.dump() for <class '__main__.ValueIterationAgent'> \n",
            "[INFO] ... trained! \n",
            "[INFO] Sucessful call to AgentHandler.load() for <class '__main__.ValueIterationAgent'> \n",
            "\u001b[32m[I 2021-09-07 09:17:20,490]\u001b[0m Trial 9 finished with value: 0.82 and parameters: {'gamma': 0.75}. Best is trial 3 with value: 1.01.\u001b[0m\n",
            "[INFO] Training AgentStats for optim...  \n",
            "[INFO] Sucessful call to AgentHandler.dump() for <class '__main__.ValueIterationAgent'> \n",
            "[INFO] ... trained! \n",
            "[INFO] Sucessful call to AgentHandler.load() for <class '__main__.ValueIterationAgent'> \n",
            "\u001b[32m[I 2021-09-07 09:17:20,909]\u001b[0m Trial 10 finished with value: 0.7899999999999999 and parameters: {'gamma': 0.1}. Best is trial 3 with value: 1.01.\u001b[0m\n",
            "[INFO] Training AgentStats for optim...  \n",
            "[INFO] Sucessful call to AgentHandler.dump() for <class '__main__.ValueIterationAgent'> \n",
            "[INFO] ... trained! \n",
            "[INFO] Sucessful call to AgentHandler.load() for <class '__main__.ValueIterationAgent'> \n",
            "\u001b[32m[I 2021-09-07 09:17:21,322]\u001b[0m Trial 11 finished with value: 0.7899999999999998 and parameters: {'gamma': 0.25}. Best is trial 3 with value: 1.01.\u001b[0m\n",
            "[INFO] Training AgentStats for optim...  \n",
            "[INFO] Sucessful call to AgentHandler.dump() for <class '__main__.ValueIterationAgent'> \n",
            "[INFO] ... trained! \n",
            "[INFO] Sucessful call to AgentHandler.load() for <class '__main__.ValueIterationAgent'> \n",
            "\u001b[32m[I 2021-09-07 09:17:21,742]\u001b[0m Trial 12 finished with value: 0.7899999999999998 and parameters: {'gamma': 0.5}. Best is trial 3 with value: 1.01.\u001b[0m\n",
            "[INFO] Training AgentStats for optim...  \n",
            "[INFO] Sucessful call to AgentHandler.dump() for <class '__main__.ValueIterationAgent'> \n",
            "[INFO] ... trained! \n",
            "[INFO] Sucessful call to AgentHandler.load() for <class '__main__.ValueIterationAgent'> \n",
            "\u001b[32m[I 2021-09-07 09:17:22,167]\u001b[0m Trial 13 finished with value: 0.9400000000000001 and parameters: {'gamma': 0.75}. Best is trial 3 with value: 1.01.\u001b[0m\n",
            "[INFO] Training AgentStats for optim...  \n",
            "[INFO] Sucessful call to AgentHandler.dump() for <class '__main__.ValueIterationAgent'> \n",
            "[INFO] ... trained! \n",
            "[INFO] Sucessful call to AgentHandler.load() for <class '__main__.ValueIterationAgent'> \n",
            "\u001b[32m[I 2021-09-07 09:17:22,587]\u001b[0m Trial 14 finished with value: 0.8300000000000001 and parameters: {'gamma': 0.5}. Best is trial 3 with value: 1.01.\u001b[0m\n",
            "[INFO] Training AgentStats for optim...  \n",
            "[INFO] Sucessful call to AgentHandler.dump() for <class '__main__.ValueIterationAgent'> \n",
            "[INFO] ... trained! \n",
            "[INFO] Sucessful call to AgentHandler.load() for <class '__main__.ValueIterationAgent'> \n",
            "\u001b[32m[I 2021-09-07 09:17:22,996]\u001b[0m Trial 15 finished with value: 0.9199999999999999 and parameters: {'gamma': 0.75}. Best is trial 3 with value: 1.01.\u001b[0m\n",
            "[INFO] Training AgentStats for optim...  \n",
            "[INFO] Sucessful call to AgentHandler.dump() for <class '__main__.ValueIterationAgent'> \n",
            "[INFO] ... trained! \n",
            "[INFO] Sucessful call to AgentHandler.load() for <class '__main__.ValueIterationAgent'> \n",
            "\u001b[32m[I 2021-09-07 09:17:23,420]\u001b[0m Trial 16 finished with value: 0.8599999999999998 and parameters: {'gamma': 0.5}. Best is trial 3 with value: 1.01.\u001b[0m\n",
            "[INFO] Training AgentStats for optim...  \n",
            "[INFO] Sucessful call to AgentHandler.dump() for <class '__main__.ValueIterationAgent'> \n",
            "[INFO] ... trained! \n",
            "[INFO] Sucessful call to AgentHandler.load() for <class '__main__.ValueIterationAgent'> \n",
            "\u001b[32m[I 2021-09-07 09:17:24,021]\u001b[0m Trial 17 finished with value: 1.02 and parameters: {'gamma': 0.99}. Best is trial 17 with value: 1.02.\u001b[0m\n",
            "[INFO] Training AgentStats for optim...  \n",
            "[INFO] Sucessful call to AgentHandler.dump() for <class '__main__.ValueIterationAgent'> \n",
            "[INFO] ... trained! \n",
            "[INFO] Sucessful call to AgentHandler.load() for <class '__main__.ValueIterationAgent'> \n",
            "\u001b[32m[I 2021-09-07 09:17:24,431]\u001b[0m Trial 18 finished with value: 0.78 and parameters: {'gamma': 0.5}. Best is trial 17 with value: 1.02.\u001b[0m\n",
            "[INFO] Training AgentStats for optim...  \n",
            "[INFO] Sucessful call to AgentHandler.dump() for <class '__main__.ValueIterationAgent'> \n",
            "[INFO] ... trained! \n",
            "[INFO] Sucessful call to AgentHandler.load() for <class '__main__.ValueIterationAgent'> \n",
            "\u001b[32m[I 2021-09-07 09:17:24,842]\u001b[0m Trial 19 finished with value: 0.7899999999999998 and parameters: {'gamma': 0.5}. Best is trial 17 with value: 1.02.\u001b[0m\n",
            "[INFO] Training AgentStats for optim...  \n",
            "[INFO] Sucessful call to AgentHandler.dump() for <class '__main__.ValueIterationAgent'> \n",
            "[INFO] ... trained! \n",
            "[INFO] Sucessful call to AgentHandler.load() for <class '__main__.ValueIterationAgent'> \n",
            "\u001b[32m[I 2021-09-07 09:17:25,269]\u001b[0m Trial 20 finished with value: 0.9099999999999999 and parameters: {'gamma': 0.75}. Best is trial 17 with value: 1.02.\u001b[0m\n",
            "[INFO] Training AgentStats for optim...  \n",
            "[INFO] Sucessful call to AgentHandler.dump() for <class '__main__.ValueIterationAgent'> \n",
            "[INFO] ... trained! \n",
            "[INFO] Sucessful call to AgentHandler.load() for <class '__main__.ValueIterationAgent'> \n",
            "\u001b[32m[I 2021-09-07 09:17:25,688]\u001b[0m Trial 21 finished with value: 0.76 and parameters: {'gamma': 0.1}. Best is trial 17 with value: 1.02.\u001b[0m\n",
            "[INFO] Training AgentStats for optim...  \n",
            "[INFO] Sucessful call to AgentHandler.dump() for <class '__main__.ValueIterationAgent'> \n",
            "[INFO] ... trained! \n",
            "[INFO] Sucessful call to AgentHandler.load() for <class '__main__.ValueIterationAgent'> \n",
            "\u001b[32m[I 2021-09-07 09:17:26,127]\u001b[0m Trial 22 finished with value: 0.8800000000000001 and parameters: {'gamma': 0.75}. Best is trial 17 with value: 1.02.\u001b[0m\n",
            "[INFO] Training AgentStats for optim...  \n",
            "[INFO] Sucessful call to AgentHandler.dump() for <class '__main__.ValueIterationAgent'> \n",
            "[INFO] ... trained! \n",
            "[INFO] Sucessful call to AgentHandler.load() for <class '__main__.ValueIterationAgent'> \n",
            "\u001b[32m[I 2021-09-07 09:17:26,565]\u001b[0m Trial 23 finished with value: 0.8699999999999999 and parameters: {'gamma': 0.75}. Best is trial 17 with value: 1.02.\u001b[0m\n",
            "[INFO] Training AgentStats for optim...  \n",
            "[INFO] Sucessful call to AgentHandler.dump() for <class '__main__.ValueIterationAgent'> \n",
            "[INFO] ... trained! \n",
            "[INFO] Sucessful call to AgentHandler.load() for <class '__main__.ValueIterationAgent'> \n",
            "\u001b[32m[I 2021-09-07 09:17:27,144]\u001b[0m Trial 24 finished with value: 0.9600000000000002 and parameters: {'gamma': 0.99}. Best is trial 17 with value: 1.02.\u001b[0m\n",
            "[INFO] Training AgentStats for optim...  \n",
            "[INFO] Sucessful call to AgentHandler.dump() for <class '__main__.ValueIterationAgent'> \n",
            "[INFO] ... trained! \n",
            "[INFO] Sucessful call to AgentHandler.load() for <class '__main__.ValueIterationAgent'> \n",
            "\u001b[32m[I 2021-09-07 09:17:27,556]\u001b[0m Trial 25 finished with value: 0.76 and parameters: {'gamma': 0.25}. Best is trial 17 with value: 1.02.\u001b[0m\n",
            "[INFO] Training AgentStats for optim...  \n",
            "[INFO] Sucessful call to AgentHandler.dump() for <class '__main__.ValueIterationAgent'> \n",
            "[INFO] ... trained! \n",
            "[INFO] Sucessful call to AgentHandler.load() for <class '__main__.ValueIterationAgent'> \n",
            "\u001b[32m[I 2021-09-07 09:17:28,158]\u001b[0m Trial 26 finished with value: 1.02 and parameters: {'gamma': 0.99}. Best is trial 17 with value: 1.02.\u001b[0m\n",
            "[INFO] Training AgentStats for optim...  \n",
            "[INFO] Sucessful call to AgentHandler.dump() for <class '__main__.ValueIterationAgent'> \n",
            "[INFO] ... trained! \n",
            "[INFO] Sucessful call to AgentHandler.load() for <class '__main__.ValueIterationAgent'> \n",
            "\u001b[32m[I 2021-09-07 09:17:28,567]\u001b[0m Trial 27 finished with value: 0.8099999999999999 and parameters: {'gamma': 0.1}. Best is trial 17 with value: 1.02.\u001b[0m\n",
            "[INFO] Training AgentStats for optim...  \n",
            "[INFO] Sucessful call to AgentHandler.dump() for <class '__main__.ValueIterationAgent'> \n",
            "[INFO] ... trained! \n",
            "[INFO] Sucessful call to AgentHandler.load() for <class '__main__.ValueIterationAgent'> \n",
            "\u001b[32m[I 2021-09-07 09:17:29,164]\u001b[0m Trial 28 finished with value: 1.01 and parameters: {'gamma': 0.99}. Best is trial 17 with value: 1.02.\u001b[0m\n",
            "[INFO] Training AgentStats for optim...  \n",
            "[INFO] Sucessful call to AgentHandler.dump() for <class '__main__.ValueIterationAgent'> \n",
            "[INFO] ... trained! \n",
            "[INFO] Sucessful call to AgentHandler.load() for <class '__main__.ValueIterationAgent'> \n",
            "\u001b[32m[I 2021-09-07 09:17:29,575]\u001b[0m Trial 29 finished with value: 0.8 and parameters: {'gamma': 0.1}. Best is trial 17 with value: 1.02.\u001b[0m\n",
            "[INFO] Number of finished trials: 30 \n",
            "[INFO] Best trial: \n",
            "[INFO] Value: 1.02 \n",
            "[INFO] Params: \n",
            "[INFO]     gamma: 0.99 \n",
            "[INFO] Training AgentStats for ValueIterationAgent...  \n",
            "[INFO] Sucessful call to AgentHandler.dump() for <class '__main__.ValueIterationAgent'> \n",
            "[INFO] Sucessful call to AgentHandler.dump() for <class '__main__.ValueIterationAgent'> \n",
            "[INFO] Sucessful call to AgentHandler.dump() for <class '__main__.ValueIterationAgent'> \n",
            "[INFO] Sucessful call to AgentHandler.dump() for <class '__main__.ValueIterationAgent'> \n",
            "[INFO] ... trained! \n",
            "[INFO] Sucessful call to AgentHandler.load() for <class '__main__.ValueIterationAgent'> \n",
            "[INFO] Sucessful call to AgentHandler.load() for <class '__main__.ValueIterationAgent'> \n",
            "[INFO] Sucessful call to AgentHandler.load() for <class '__main__.ValueIterationAgent'> \n",
            "[INFO] Sucessful call to AgentHandler.load() for <class '__main__.ValueIterationAgent'> \n",
            "[INFO] Evaluating ValueIterationAgent... \n",
            "[INFO] ... simulation 1/5 \n",
            "[INFO] ... simulation 2/5 \n",
            "[INFO] ... simulation 3/5 \n",
            "[INFO] ... simulation 4/5 \n",
            "[INFO] ... simulation 5/5 \n",
            "[INFO] Evaluating RandomAgent... \n",
            "[INFO] ... simulation 1/5 \n",
            "[INFO] ... simulation 2/5 \n",
            "[INFO] ... simulation 3/5 \n",
            "[INFO] ... simulation 4/5 \n",
            "[INFO] ... simulation 5/5 \n"
          ]
        },
        {
          "output_type": "display_data",
          "data": {
            "image/png": "[encoded data removed]",
            "text/plain": [
              "<Figure size 432x288 with 1 Axes>"
            ]
          },
          "metadata": {
            "needs_background": "light"
          }
        }
      ]
    },
    {
      "cell_type": "code",
      "metadata": {
        "id": "NsJrVDT6hpeB"
      },
      "source": [
        "# clear generated data\n",
        "vi_stats.clear_output_dir()\n",
        "baseline_stats.clear_output_dir()"
      ],
      "execution_count": 21,
      "outputs": []
    }
  ]
}